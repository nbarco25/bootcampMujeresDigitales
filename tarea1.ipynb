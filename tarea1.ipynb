{
  "nbformat": 4,
  "nbformat_minor": 0,
  "metadata": {
    "colab": {
      "name": "Untitled2.ipynb",
      "provenance": [],
      "collapsed_sections": [],
      "authorship_tag": "ABX9TyOalF6vPBnRSELb+omph46T",
      "include_colab_link": true
    },
    "kernelspec": {
      "name": "python3",
      "display_name": "Python 3"
    },
    "language_info": {
      "name": "python"
    }
  },
  "cells": [
    {
      "cell_type": "markdown",
      "metadata": {
        "id": "view-in-github",
        "colab_type": "text"
      },
      "source": [
        "<a href=\"https://colab.research.google.com/github/nbarco25/bootcampMujeresDigitales/blob/main/tarea1.ipynb\" target=\"_parent\"><img src=\"https://colab.research.google.com/assets/colab-badge.svg\" alt=\"Open In Colab\"/></a>"
      ]
    },
    {
      "cell_type": "markdown",
      "metadata": {
        "id": "ShpEBQK3a5NI"
      },
      "source": [
        "**Taller 1 - Solución**"
      ]
    },
    {
      "cell_type": "markdown",
      "metadata": {
        "id": "j5zmZeESbZjs"
      },
      "source": [
        "tareas = 10% --------> 4.5\n",
        "\n",
        "---\n",
        "\n",
        "\n",
        "talleres = 25% ------> 4.0\n",
        "\n",
        "---\n",
        "\n",
        "\n",
        "Asistencia = 5% -----> 5.0\n",
        "\n",
        "---\n",
        "\n",
        "\n",
        "participación=15% ---> 4.0\n",
        "\n",
        "---\n",
        "\n",
        "\n",
        "proyecto = 45% ------> ?\n",
        "\n",
        "¿Cuánto necesito en el proyecto para tener una definitiva de 3.7?"
      ]
    },
    {
      "cell_type": "code",
      "metadata": {
        "colab": {
          "base_uri": "https://localhost:8080/"
        },
        "id": "MYUu_Asza8o3",
        "outputId": "03c20564-b003-49f7-aa23-46bcc0653ccf"
      },
      "source": [
        "tareas=4.5\n",
        "talleres=4.0\n",
        "asistencia=5.0\n",
        "participacion=4.0\n",
        "\n",
        "porcTareas=0.1\n",
        "porcTalleres=0.25\n",
        "porcAsistencia=0.05\n",
        "porcParticipacion=0.15\n",
        "porcProyecto=0.45\n",
        "\n",
        "laLlevoEn=(tareas*porcTareas)+(talleres*porcTalleres)+(asistencia*porcAsistencia)+(participacion*porcParticipacion)\n",
        "#print(la_llevo_en)\n",
        "\n",
        "para37 = 3.7 - laLlevoEn\n",
        "#print(\"Le falta: \",para37)\n",
        "notaFinalProy=proyecto*0.45\n",
        "notaFinalProyecto =  para37/porcProyecto\n",
        "\n",
        "print(\"Para pasarla en 3.7 necesitas \",notaFinalProyecto)\n",
        "laLlevoEn=(tareas*porcTareas)+(talleres*porcTalleres)+(asistencia*porcAsistencia)+(participacion*porcParticipacion)+(notaFinalProyecto*0.45)\n",
        "print(\"Me queda la nota total en : \",laLlevoEn)\n",
        "\n",
        "  \n",
        "\n"
      ],
      "execution_count": 59,
      "outputs": [
        {
          "output_type": "stream",
          "text": [
            "Para pasarla en 3.7 necesitas  3.1111111111111116\n",
            "Me queda la nota total en :  3.7\n"
          ],
          "name": "stdout"
        }
      ]
    },
    {
      "cell_type": "markdown",
      "metadata": {
        "id": "kMfSnQpY5e5I"
      },
      "source": [
        "**Punto 2**\n",
        "\n",
        "\n"
      ]
    },
    {
      "cell_type": "code",
      "metadata": {
        "colab": {
          "base_uri": "https://localhost:8080/"
        },
        "id": "EHgCJ82d7fpc",
        "outputId": "6ef7ec6b-2518-4abb-cfea-c52edb4da758"
      },
      "source": [
        "\n",
        "print(\"----------------- Verifica tu premio ----------------------\")\n",
        "nombre = input(\"Ingrese su nombre \")\n",
        "balota = (input(\"Ingrese el color de la balota \")).lower()\n",
        "efectivo = False\n",
        "\n",
        "if (balota == \"rosada\" or balota == \"rosado\"):\n",
        "  #PREMIO 1 Viaje todo incluido 2 personas a San andrés\n",
        "  #Probabilidad: 0.15 \n",
        "  bono = 1000000*0.15\n",
        "  premio = [\"Viaje todo incluído para dos personas a San Andrés\", bono]\n",
        "elif (balota == \"verde\"):\n",
        "  bono = 1000000*0.20\n",
        "  premio = [\"Pasadía a los termales de San Vicente incluyendo almuerzo\",bono]\n",
        "elif (balota == \"azul\"):\n",
        "  bono = 1000000 * 0.05\n",
        "  premio = [\"Viaje todo incluído para dos personas a Santa Marta\", bono]\n",
        "elif (balota == \"gris\"):\n",
        "  bono = 1000000 * 0.20\n",
        "  premio = [\"Pasadía al desierto de la Tatacoa sin alimentación\", bono]\n",
        "elif (balota == \"roja\" or balota == \"rojo\"):\n",
        "  bono = 120000\n",
        "  premio = [\"No hay premio\",bono]\n",
        "else: \n",
        "  print(\"El color de la balota ingresado no es correcto\")\n",
        "\n",
        "if(premio[1] > 120000):\n",
        "  efectivo=True\n",
        "  #Gana efectivo\n",
        "  #Si no, gana boletas 3D\n",
        "  print(\"     P r e m i o   \")\n",
        "  print(\"La empresa VIVAFLY se complace en anunciar que La participante \", nombre,  \"ganó\",premio[0] ,\"en nuestro sorteo de viajes de AMOR y AMISTAD y adicionalmente un bono en efectivo por \",premio[1])\n",
        "else:\n",
        "    premio.append(\"4 boletas para cine 3D\")\n",
        "    print()\n",
        "    print(\"La empresa VIVAFLY se complace en anunciar que La participante \", nombre,  \"ganó un bono por $\",premio[1],\" y adicionalmente\",premio[2])\n"
      ],
      "execution_count": 65,
      "outputs": [
        {
          "output_type": "stream",
          "text": [
            "----------------- Verifica tu premio ----------------------\n",
            "Ingrese su nombre rojo\n",
            "Ingrese el color de la balota rojo\n",
            "\n",
            "La empresa VIVAFLY se complace en anunciar que La participante  rojo ganó un bono por $ 120000  y adicionalmente 4 boletas para cine 3D\n"
          ],
          "name": "stdout"
        }
      ]
    }
  ]
}