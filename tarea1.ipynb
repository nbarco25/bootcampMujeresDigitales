{
  "nbformat": 4,
  "nbformat_minor": 0,
  "metadata": {
    "colab": {
      "name": "Untitled2.ipynb",
      "provenance": [],
      "authorship_tag": "ABX9TyNFlmgNbaiBGTrwN+0xYQbV",
      "include_colab_link": true
    },
    "kernelspec": {
      "name": "python3",
      "display_name": "Python 3"
    },
    "language_info": {
      "name": "python"
    }
  },
  "cells": [
    {
      "cell_type": "markdown",
      "metadata": {
        "id": "view-in-github",
        "colab_type": "text"
      },
      "source": [
        "<a href=\"https://colab.research.google.com/github/nbarco25/bootcampMujeresDigitales/blob/main/tarea1.ipynb\" target=\"_parent\"><img src=\"https://colab.research.google.com/assets/colab-badge.svg\" alt=\"Open In Colab\"/></a>"
      ]
    },
    {
      "cell_type": "markdown",
      "metadata": {
        "id": "ShpEBQK3a5NI"
      },
      "source": [
        "**Taller 1 - Solución**"
      ]
    },
    {
      "cell_type": "markdown",
      "metadata": {
        "id": "j5zmZeESbZjs"
      },
      "source": [
        "tareas = 10% --------> 4.5\n",
        "\n",
        "---\n",
        "\n",
        "\n",
        "talleres = 25% ------> 4.0\n",
        "\n",
        "---\n",
        "\n",
        "\n",
        "Asistencia = 5% -----> 5.0\n",
        "\n",
        "---\n",
        "\n",
        "\n",
        "participación=15% ---> 4.0\n",
        "\n",
        "---\n",
        "\n",
        "\n",
        "proyecto = 45% ------> ?\n",
        "\n",
        "¿Cuánto necesito en el proyecto para tener una definitiva de 3.7?"
      ]
    },
    {
      "cell_type": "code",
      "metadata": {
        "colab": {
          "base_uri": "https://localhost:8080/"
        },
        "id": "MYUu_Asza8o3",
        "outputId": "4b34401e-03e9-449f-d849-c885e6ad9a6c"
      },
      "source": [
        "tareas=4.5\n",
        "talleres=4.0\n",
        "asistencia=5.0\n",
        "participacion=4.0\n",
        "\n",
        "porcTareas=0.1\n",
        "porcTalleres=0.25\n",
        "porcAsistencia=0.05\n",
        "porcParticipacion=0.15\n",
        "porcProyecto=0.45\n",
        "\n",
        "laLlevoEn=(tareas*porcTareas)+(talleres*porcTalleres)+(asistencia*porcAsistencia)+(participacion*porcParticipacion)\n",
        "print(la_llevo_en)\n",
        "\n",
        "para37 = 3.7 - laLlevoEn\n",
        "print(\"Le falta: \",para37)\n",
        "\n",
        "proyecto = 5.0\n",
        "\n",
        "notaFinalProy=proyecto*0.45\n",
        "\n",
        "notaDefinitiva = laLlevoEn+notaFinalProy\n",
        "\n",
        "if (notaFinalProy == 1.4000000000000004):\n",
        "  print(\"Necesitas \",proyecto, \"para pasar\")\n",
        "  \n",
        "  \n",
        "\n",
        "\n",
        "  \n",
        "\n",
        "  \n",
        "\n"
      ],
      "execution_count": 29,
      "outputs": [
        {
          "output_type": "stream",
          "text": [
            "2.3\n",
            "Le falta:  1.4000000000000004\n"
          ],
          "name": "stdout"
        }
      ]
    }
  ]
}